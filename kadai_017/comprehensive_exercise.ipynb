{
  "nbformat": 4,
  "nbformat_minor": 0,
  "metadata": {
    "colab": {
      "provenance": []
    },
    "kernelspec": {
      "name": "python3",
      "display_name": "Python 3"
    },
    "language_info": {
      "name": "python"
    }
  },
  "cells": [
    {
      "cell_type": "code",
      "execution_count": 3,
      "metadata": {
        "id": "afzIJe9gd1HY",
        "colab": {
          "base_uri": "https://localhost:8080/"
        },
        "outputId": "498efcc2-c9dd-4e06-f6b0-8b052f694320"
      },
      "outputs": [
        {
          "output_type": "stream",
          "name": "stdout",
          "text": [
            "大人\n",
            "大人\n",
            "大人でない\n",
            "大人でない\n"
          ]
        }
      ],
      "source": [
        "class Human:\n",
        "  def __init__(self, name, age):\n",
        "    self.name = name\n",
        "    self.age = age\n",
        "\n",
        "  def printinfo(self):\n",
        "    print(f\"名前は{self.name}、年齢は{self.age}才\")\n",
        "\n",
        "  def check_adult(self):\n",
        "    if self.age>=20:\n",
        "      print(\"大人\")\n",
        "    else:\n",
        "      print(\"大人でない\")\n",
        "\n",
        "human_list = []\n",
        "\n",
        "human1 = Human(\"侍太郎\", 30)\n",
        "human_list.append(human1)\n",
        "human2 = Human(\"侍一郎\", 25)\n",
        "human_list.append(human2)\n",
        "human3 = Human(\"侍次郎\", 18)\n",
        "human_list.append(human3)\n",
        "human4 = Human(\"侍花子\", 12)\n",
        "human_list.append(human4)\n",
        "\n",
        "for i in human_list:\n",
        "  i.check_adult()"
      ]
    }
  ]
}