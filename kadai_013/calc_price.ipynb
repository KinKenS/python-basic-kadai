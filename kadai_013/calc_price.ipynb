{
  "nbformat": 4,
  "nbformat_minor": 0,
  "metadata": {
    "colab": {
      "provenance": []
    },
    "kernelspec": {
      "name": "python3",
      "display_name": "Python 3"
    },
    "language_info": {
      "name": "python"
    }
  },
  "cells": [
    {
      "cell_type": "code",
      "execution_count": 3,
      "metadata": {
        "colab": {
          "base_uri": "https://localhost:8080/"
        },
        "id": "Dgq3FgxG4YJO",
        "outputId": "07f1829b-c7bb-47f6-d758-373e9c7f2b2f"
      },
      "outputs": [
        {
          "output_type": "execute_result",
          "data": {
            "text/plain": [
              "110.00000000000001"
            ]
          },
          "metadata": {},
          "execution_count": 3
        }
      ],
      "source": [
        "def calc_price(amount, tax_rate):\n",
        "  return amount * (1 + tax_rate/100)\n",
        "\n",
        "print(calc_price(100, 10))"
      ]
    }
  ]
}