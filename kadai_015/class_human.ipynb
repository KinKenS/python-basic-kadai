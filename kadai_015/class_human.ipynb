{
  "nbformat": 4,
  "nbformat_minor": 0,
  "metadata": {
    "colab": {
      "provenance": []
    },
    "kernelspec": {
      "name": "python3",
      "display_name": "Python 3"
    },
    "language_info": {
      "name": "python"
    }
  },
  "cells": [
    {
      "cell_type": "code",
      "execution_count": 3,
      "metadata": {
        "colab": {
          "base_uri": "https://localhost:8080/"
        },
        "id": "iQ6_5zjX_cjT",
        "outputId": "85fea460-22ed-4f0a-8e83-9206f619c9e4"
      },
      "outputs": [
        {
          "output_type": "stream",
          "name": "stdout",
          "text": [
            "名前は侍太郎、年齢は30才\n"
          ]
        }
      ],
      "source": [
        "class Human:\n",
        "  def __init__(self, name, age):\n",
        "    self.name = name\n",
        "    self.age = age\n",
        "\n",
        "human = Human(\"侍太郎\", 30)\n",
        "print(f\"名前は{human.name}、年齢は{human.age}才\")"
      ]
    }
  ]
}